{
  "cells": [
    {
      "cell_type": "markdown",
      "metadata": {
        "id": "view-in-github",
        "colab_type": "text"
      },
      "source": [
        "<a href=\"https://colab.research.google.com/github/shiv13anand/data-structure/blob/main/circular_linked_list_21105125_shivansh.ipynb\" target=\"_parent\"><img src=\"https://colab.research.google.com/assets/colab-badge.svg\" alt=\"Open In Colab\"/></a>"
      ]
    },
    {
      "cell_type": "code",
      "execution_count": null,
      "id": "1c677c6a",
      "metadata": {
        "id": "1c677c6a",
        "outputId": "14cc28af-4f39-4481-fe8a-cfc8006cc4d5"
      },
      "outputs": [
        {
          "name": "stdout",
          "output_type": "stream",
          "text": [
            "Contents of circular Linked List\n",
            "6 9 6 9 "
          ]
        }
      ],
      "source": [
        "# [Question.1] While traversing a single-circular linked list, which condition establishes that the traversing element/variable has reached the first element? */\n",
        "\n",
        "\n",
        "#Ans 1\n",
        "#Lets take an example and create a basic circular linked list\n",
        "# circular linked list traversal\n",
        "\n",
        "# Structure for a Node\n",
        "class Node:\n",
        "\t\n",
        "\t# Constructor to create a new node\n",
        "\tdef __init__(self, data):\n",
        "\t\tself.data = data\n",
        "\t\tself.next = None\n",
        "\n",
        "class CircularLinkedList:\n",
        "\t\n",
        "\t# Constructor to create a empty circular linked list\n",
        "\tdef __init__(self):\n",
        "\t\tself.head = None\n",
        "\n",
        "\t# Function to insert a node at the beginning of a\n",
        "\t# circular linked list\n",
        "\tdef push(self, data):\n",
        "\t\tptr1 = Node(data)\n",
        "\t\ttemp = self.head\n",
        "\t\t\n",
        "\t\tptr1.next = self.head\n",
        "\n",
        "\t\t# If linked list is not None then set the next of\n",
        "\t\t# last node\n",
        "\t\tif self.head is not None:\n",
        "\t\t\twhile(temp.next != self.head):#This condition establishes that the traversing element(temp) has reached the first element\n",
        "\t\t\t\ttemp = temp.next\n",
        "\t\t\ttemp.next = ptr1\n",
        "\n",
        "\t\telse:\n",
        "\t\t\tptr1.next = ptr1 # For the first node\n",
        "\n",
        "\t\tself.head = ptr1\n",
        "\n",
        "\t# Function to print nodes in a given circular linked list\n",
        "\tdef printList(self):\n",
        "\t\ttemp = self.head\n",
        "\t\tif self.head is not None:\n",
        "\t\t\twhile(True):\n",
        "\t\t\t\tprint (temp.data, end=\" \")\n",
        "\t\t\t\ttemp = temp.next\n",
        "\t\t\t\tif (temp == self.head):\n",
        "\t\t\t\t\tbreak\n",
        "\n",
        "\n",
        "# Driver program to test above function\n",
        "\n",
        "# Initialize list as empty\n",
        "cllist = CircularLinkedList()\n",
        "\n",
        "# Created linked list will be 11->2->56->12\n",
        "cllist.push(9)\n",
        "cllist.push(6)\n",
        "cllist.push(9)\n",
        "cllist.push(6)\n",
        "\n",
        "print (\"Contents of circular Linked List\")\n",
        "cllist.printList()\n",
        "\n",
        "\n",
        "#With reference to above example of circular linked list.\n",
        "#Line 18 i.e. while(temp->next!=head) establishes that the traversing element/variable has reached the first element.\n",
        "#We Know that in circular linked list last node of linked list points to head of that linked list, hence we can check if any node points to head of linked list then that node is the end of circular linked list.\n",
        "\n",
        "\n",
        "\n",
        "\t\t\n"
      ]
    },
    {
      "cell_type": "code",
      "execution_count": null,
      "id": "a727bb32",
      "metadata": {
        "id": "a727bb32",
        "outputId": "ac405769-da38-4032-99b8-06f65a0ba0b9"
      },
      "outputs": [
        {
          "ename": "SyntaxError",
          "evalue": "invalid syntax (586074498.py, line 4)",
          "output_type": "error",
          "traceback": [
            "\u001b[1;36m  Input \u001b[1;32mIn [4]\u001b[1;36m\u001b[0m\n\u001b[1;33m    1.games:-\u001b[0m\n\u001b[1;37m      ^\u001b[0m\n\u001b[1;31mSyntaxError\u001b[0m\u001b[1;31m:\u001b[0m invalid syntax\n"
          ]
        }
      ],
      "source": [
        "#[Question.2]  What are the practical applications of a circular linked list? (Try to find applications in your respective fields).\n",
        "\n",
        "#ans 2 ; practical applications are:-\n",
        "1.games:-\n",
        "  #A ludo game has to come back give turn to first player after 4th player so it has to be circular.\n",
        "\n",
        "  #The one I always think of is the Snake game on your phone.The circular linked list stores the x,y position of each point in the snake's body.The head of the list is the snake's head.The tail is its tail.And the really nice property is that as you advance the head to a new position, the list wraps around because it is circular. This erases the tail, and leaves all other body parts as they are\n",
        "    \n",
        "2. computer applications:-\n",
        "    #Computer Networking:Circular linked list is also used in computer networking for token scheduling.\n",
        "    \n",
        "    #Implementation of Data Structure: Data structures such as stacks and queues are implemented with the help of the circular linked \n",
        "    \n",
        "    #A good example of an application where circular linked list should be used is a timesharing problem solved by the operating system.In a timesharing environment, the operating system must maintain a list of present users and must alternately allow each user to use a small slice of CPU time, one user at a time. The operating system will pick a user, let him/her use a small amount of CPU time and then move on to the next user, etc.For this application, there should be no NULL pointers unless there is absolutely no one requesting CPU time.\n",
        "    \n",
        "    # Circular linked list is also used in audio and video streaming,for ex. when one copmlete audio list finishes playing in music player then it again starts playing from start.\n",
        "    \n",
        "    #In our keyboard we have alt+tab key this is circular linked list it goes back on to first tab after last tab and we can go back also.\n",
        "    \n",
        "    #It is also used in computer networking for token scheduling.\n",
        "    \n",
        "3. In my field:-(ece)\n",
        "    # as my field is electronics and communication it was very difficult to think of practical applications but ther are some for eg if we build a mechatronics system like escalators er can make use of circular linked list in circular escalators.\n",
        "    #Allocating CPU to resources\n"
      ]
    },
    {
      "cell_type": "code",
      "execution_count": null,
      "id": "a59e6d4d",
      "metadata": {
        "id": "a59e6d4d"
      },
      "outputs": [],
      "source": []
    }
  ],
  "metadata": {
    "kernelspec": {
      "display_name": "Python 3 (ipykernel)",
      "language": "python",
      "name": "python3"
    },
    "language_info": {
      "codemirror_mode": {
        "name": "ipython",
        "version": 3
      },
      "file_extension": ".py",
      "mimetype": "text/x-python",
      "name": "python",
      "nbconvert_exporter": "python",
      "pygments_lexer": "ipython3",
      "version": "3.9.12"
    },
    "colab": {
      "provenance": [],
      "include_colab_link": true
    }
  },
  "nbformat": 4,
  "nbformat_minor": 5
}