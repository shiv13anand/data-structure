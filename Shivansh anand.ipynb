{
 "cells": [
  {
   "cell_type": "code",
   "execution_count": null,
   "id": "567cfbc2",
   "metadata": {},
   "outputs": [],
   "source": [
    "WHAT IS THE DIFFERENCE BETWEEN IN PLACE AND OUT PLACE?\n",
    "#IN PLACE\n",
    "1.A IN PLACE ALGORITHM MAY REQUIRE A SMALL AMOUNT OF EXTRA MEMORY FOR ITS OPERATION.HOWEVER ,THE AMOUNT OF MEMORY REQUIRED MUST NOT BE DEPENDENT ON INPUT SIZE AND SHOULD BE CONSTANT \n",
    "2.USUALLY,AN ALGORITHM IS BASED ON THE EXPLICT STORAGE ALLOCATED BY THE ALGORITHM.HOWEVER,CALLING A RECURSIVE ALGORITHM AS IN-PLACE IS HIGHLY DETABLE SINCE EXTRA SPACE IS BEING USED BY THE CALL STACK.ALTHOUGH THE SPACE REQUIRED BY THE CALL STACK TECHNICALLY TAKES THE RECURSIVE ALGORITHM OUT OF THE IN-PLACE ALGORITHMS CATEGORY,THE ALGORITHMS REQUIRING ONLY O(LOG(N)) ADDITIONAL SPACE IS CONSIDERED TO BE IN - PLACE\n",
    "3.IN-PLACE ALGORITHMS ARE USUALLY USED IN AN EMBEDDED SYSTEM THAT RUNS IN LIMITED MEMORY.THEY REDUCE THE SPACE REQUIREMENTS TO A GREAT EXTENT , THE ALGORITHM TIME COMPLEXITY INCREASES IN SOME CASES\n",
    "4. EXAMPLES ARE- 1.BUBBLE SORT 2.HEAP SORT 3.INSERTION SORT 3.QUICK SORT 4.SELECTION SORT \n",
    "\n",
    "#OUT-PLACE\n",
    "1. AN ALGORITHM THAT NOT IN -PLACE IS CALLED OUT -PLACE . UNLIKE AN IN-PLACE ALGORITHM,THE EXTRA SPACE USED BY OUT-OF-PLACE ALGORITHM DEPENDS ON THE INPUT SIZE\n",
    "2. THE MERGING CAN BE DONE IN-PLACE , BUT IT INCREASES THE TIME COMPLEXITY OF THE SORTING ROUTINE\n",
    "3. THE STANDARD MERGE SORT ALGORITHM IS AN EXAMPLE OF OUT OF PLACE ALGORITHM AS IT REQUIRES O(N) EXTRA SPACE FOR MERGING\n",
    "4.EXAMPLES :- RADIX SORT AND MERGE SORT\n",
    "    \n",
    "Q.3 WHAT ARE PRACTICAL APPLICATIONS OF IN-PLACE AND OUT-PLACE?\n",
    "#IN - PLACE\n",
    "1.In many cases, the space requirements of an algorithm can be drastically cut by using a randomized algorithm.\n",
    "2. For example, say we wish to know if two vertices in a graph of n vertices are in the same connected component of the graph. There is no known simple, deterministic, in-place algorithm to determine this, but if we simply start at one vertex and perform a random walk of about 20n3 steps, the chance that we will stumble across the other vertex provided that it is in the same component is very high\n",
    "3. Similarly, there are simple randomized in-place algorithms for primality testing such as the Miller–Rabin primality test\n",
    "4.there are also simple in-place randomized factoring algorithms such as Pollard's rho algorithm. See RL and BPL for more discussion of this phenomenon.\n",
    "\n",
    "#OUT-PLACE \n",
    "1.merge sort is an example of out of place.\n",
    "2.we assume a person sing in a choir and when there’s free time I sort of pathologically sort the music. The choir members are assigned numbers so as to keep track of our personal performance “notes”, reminderts of the conductor’s nuances. I sort the music for a while, but soon it becomes a nuisance to hold the stack of books or thumb through to the right spot into which I then have to slip in the new entry. Thus I start a new stack, and then…you guessed it. I merge sort the three or four piles into one group.\n",
    "\n"
   ]
  }
 ],
 "metadata": {
  "kernelspec": {
   "display_name": "Python 3 (ipykernel)",
   "language": "python",
   "name": "python3"
  },
  "language_info": {
   "codemirror_mode": {
    "name": "ipython",
    "version": 3
   },
   "file_extension": ".py",
   "mimetype": "text/x-python",
   "name": "python",
   "nbconvert_exporter": "python",
   "pygments_lexer": "ipython3",
   "version": "3.9.12"
  }
 },
 "nbformat": 4,
 "nbformat_minor": 5
}
